{
 "cells": [
  {
   "cell_type": "code",
   "execution_count": 1,
   "metadata": {},
   "outputs": [],
   "source": [
    "import os\n",
    "import google.generativeai as genai \n",
    "from langchain_google_genai import ChatGoogleGenerativeAI\n",
    "from langchain.prompts import PromptTemplate\n",
    "from langchain.chains import LLMChain\n",
    "api_key = os.environ['GOOGLE_API_KEY'] = 'xxxxx'\n",
    "\n",
    "# Configuring Google Generative AI module with the provided API key\n",
    "genai.configure(api_key=api_key)\n"
   ]
  },
  {
   "cell_type": "code",
   "execution_count": 2,
   "metadata": {},
   "outputs": [],
   "source": [
    "class Model:\n",
    "    # Class method to instantiate a model\n",
    "    @classmethod\n",
    "    def model(cls,model_name=None,temp=None):\n",
    "        try:\n",
    "            # Attempt to initialize and return a ChatGoogleGenerativeAI model\n",
    "            return ChatGoogleGenerativeAI(model=model_name,temperature=temp, google_api_key=api_key)\n",
    "        except Exception as e:\n",
    "            # Return any exception that occurs during instantiation\n",
    "            return e\n",
    "\n",
    "class Chain:\n",
    "    # Class method to create a chain\n",
    "    @classmethod\n",
    "    def chain(cls, model_name=None, temp=None,prompt=None):\n",
    "        try:\n",
    "            # Attempt to create an LLMChain instance using the specified model and prompt\n",
    "            return LLMChain(llm=Model.model(model_name,temp),prompt=prompt)\n",
    "        except Exception as e:\n",
    "            # Return any exception that occurs during chain creation\n",
    "            return e\n",
    "\n",
    "class UserPrompt:\n",
    "    # Class method to generate user prompts\n",
    "    @classmethod\n",
    "    def prompt(cls,template=None,input_vars=[]):\n",
    "        try:\n",
    "            # Attempt to create a PromptTemplate instance with the specified template and input variables\n",
    "            return PromptTemplate(template=template,input_variables=input_vars)\n",
    "        except Exception as e:\n",
    "            # Return any exception that occurs during prompt generation\n",
    "            return e\n"
   ]
  },
  {
   "cell_type": "code",
   "execution_count": 3,
   "metadata": {},
   "outputs": [],
   "source": [
    "class ActasRole:\n",
    "    # Class method to generate a prompt for a content creator role\n",
    "    @classmethod\n",
    "    def template(cls):\n",
    "        try:\n",
    "            my_prompt = \"\"\"you are a content creator.\n",
    "             write me a nice tweet on {topic}\n",
    "            \"\"\"\n",
    "            # Generate a user prompt template with the specified template and input variables\n",
    "            return UserPrompt.prompt(template=my_prompt,input_vars=['topic'])\n",
    "        except Exception as e:\n",
    "            return e\n",
    "\n",
    "class ActasAdvisor:\n",
    "    # Class method to generate a prompt for a financial advisor role\n",
    "    @classmethod\n",
    "    def template(cls):\n",
    "        try:\n",
    "            my_prompt = '''I want you to act as a acting financial advisor for people.\n",
    "                        In an easy way, explain the basics of \n",
    "                        {financial_concept}.'''\n",
    "            # Generate a user prompt template with the specified template and input variables\n",
    "            return UserPrompt.prompt(template=my_prompt,input_vars=['financial_concept'])\n",
    "        except Exception as e:\n",
    "            return e\n",
    "\n",
    "class ActasTranslator:\n",
    "    # Class methods to generate prompts for translating sentences\n",
    "    @classmethod\n",
    "    def english_to_german(cls):\n",
    "        try:\n",
    "            my_prompt = '''In an easy way translate the following sentence '{sentence}' into German'''\n",
    "            return UserPrompt.prompt(template=my_prompt,input_vars=['sentence'])\n",
    "        except Exception as e:\n",
    "            return e\n",
    "\n",
    "    @classmethod\n",
    "    def english_to_french(cls):\n",
    "        try:\n",
    "            my_prompt = '''In an easy way translate the following sentence '{sentence}' into French'''\n",
    "            return UserPrompt.prompt(template=my_prompt,input_vars=['sentence'])\n",
    "        except Exception as e:\n",
    "            return e\n",
    "\n",
    "    @classmethod\n",
    "    def english_to_hindi(cls):\n",
    "        try:\n",
    "            my_prompt = '''In an easy way translate the following sentence '{sentence}' into Hindi'''\n",
    "            return UserPrompt.prompt(template=my_prompt,input_vars=['sentence'])\n",
    "        except Exception as e:\n",
    "            return e\n",
    "\n",
    "class ActasGuide:\n",
    "    # Class method to generate a prompt for providing travel recommendations\n",
    "    @classmethod\n",
    "    def template(cls):\n",
    "        try:\n",
    "            my_prompt = \"\"\" I am travelling to {location}. What are the top 3 things I can do while I am there.\n",
    "                            Be very specific and respond as three bullet points \"\"\"\n",
    "            # Generate a user prompt template with the specified template and input variables\n",
    "            return UserPrompt.prompt(template=my_prompt,input_vars=['location'])\n",
    "        except Exception as e:\n",
    "            return e\n",
    "\n",
    "class ZeroShotSentimentClassification:\n",
    "    # Class method to generate a prompt for zero-shot sentiment classification\n",
    "    @classmethod\n",
    "    def template(cls):\n",
    "        try:\n",
    "            template2 = '''Classify the sentiment of the following sentence as positive, negative, or neutral. \n",
    "            {Input_sentence}'''\n",
    "            # Generate a user prompt template with the specified template and input variables\n",
    "            return UserPrompt.prompt(template=template2,input_vars=['Input_sentence'])\n",
    "        except Exception as e:\n",
    "            return e\n",
    "\n",
    "class FewShotSentimentClassification:\n",
    "    # Class method to generate a prompt for few-shot sentiment classification\n",
    "    @classmethod\n",
    "    def template(cls):\n",
    "        try:\n",
    "            template2 = '''Classify the sentiment of the following sentence as positive, negative, or neutral. \n",
    "            For example: \n",
    "            'I absolutely loved the movie!' (Positive)\n",
    "            'The food was terrible.' (Negative)\n",
    "            'The Restaurant had a good menu. but staff was disgusting'. (Negative)\n",
    "            The weather today is neither good nor bad.' (Neutral)\n",
    "            The gentle hum of conversation filled the air as friends gathered around the table, enjoying each other's company on a pleasant summer evening,  (Neutral)\n",
    "            {Input_sentence}\"'''\n",
    "            # Generate a user prompt template with the specified template and input variables\n",
    "            return UserPrompt.prompt(template=template2,input_vars=['Input_sentence'])\n",
    "        except Exception as e:\n",
    "            return e\n"
   ]
  },
  {
   "cell_type": "code",
   "execution_count": 4,
   "metadata": {},
   "outputs": [],
   "source": [
    "class ConversationAgent:\n",
    "    # Constructor to initialize the ConversationAgent with model name and temperature\n",
    "    def __init__(self, model_name=None, temp=None):\n",
    "        self.model = model_name\n",
    "        self.temperature = temp\n",
    "    \n",
    "    # Method to declare chains based on a given prompt template\n",
    "    def declare_chains(self, prompt_template):\n",
    "        try:\n",
    "            # Instantiate a chain using the specified model and prompt template\n",
    "            return Chain.chain(model_name=self.model, temp=self.temperature, prompt=prompt_template)\n",
    "        except Exception as e:\n",
    "            # Return any exception that occurs during chain declaration\n",
    "            return e\n",
    "    \n",
    "    # Method to run the conversation agent with user input and prompt\n",
    "    def run(self, user_text=None, prompt=None):\n",
    "        # Invoke the declared chain with user input and return the response\n",
    "        response = self.declare_chains(prompt).invoke(user_text)\n",
    "        return response['text']\n"
   ]
  },
  {
   "cell_type": "code",
   "execution_count": 7,
   "metadata": {},
   "outputs": [
    {
     "name": "stdout",
     "output_type": "stream",
     "text": [
      "🏏 The thrill of the chase, the roar of the crowd, and the artistry of the players. Cricket, a game that captivates hearts and unites nations. #CricketLove #GameOfSkill\n"
     ]
    }
   ],
   "source": [
    "# Act as Role\n",
    "ca = ConversationAgent(model_name='gemini-pro',temp=0)\n",
    "re = ca.run(user_text=\"cricket\",prompt=ActasRole.template())\n",
    "print(re)\n"
   ]
  },
  {
   "cell_type": "code",
   "execution_count": 11,
   "metadata": {},
   "outputs": [
    {
     "name": "stdout",
     "output_type": "stream",
     "text": [
      "What is GDP?\n",
      "\n",
      "GDP stands for Gross Domestic Product. It's a measure of the total value of all goods and services produced within a country's borders in a specific period, usually a year.\n",
      "\n",
      "How is GDP Calculated?\n",
      "\n",
      "GDP is calculated by adding up the following:\n",
      "\n",
      " Consumer spending: What people spend on goods and services\n",
      " Business investment: What businesses spend on new equipment, buildings, and inventory\n",
      " Government spending: What the government spends on goods and services\n",
      " Net exports: The difference between what a country exports (sells to other countries) and imports (buys from other countries)\n",
      "\n",
      "Why is GDP Important?\n",
      "\n",
      "GDP is an important economic indicator because it:\n",
      "\n",
      " Measures the size of a country's economy\n",
      " Shows how fast the economy is growing or shrinking\n",
      " Helps governments make decisions about economic policies\n",
      "\n",
      "Example:\n",
      "\n",
      "Let's say a country produces the following in a year:\n",
      "\n",
      " Consumers spend $100 billion\n",
      " Businesses invest $20 billion\n",
      " Government spends $30 billion\n",
      " Net exports are $10 billion\n",
      "\n",
      "The GDP of this country would be $160 billion ($100 billion + $20 billion + $30 billion + $10 billion).\n",
      "\n",
      "Remember:\n",
      "\n",
      " GDP measures the value of production within a country's borders, not the income of its citizens.\n",
      " GDP can be affected by factors such as population growth, technological advancements, and government policies.\n",
      " GDP is just one measure of economic well-being. Other factors, such as income inequality and environmental sustainability, are also important to consider.\n"
     ]
    }
   ],
   "source": [
    "# Act as Advisor\n",
    "ca = ConversationAgent(model_name='gemini-pro',temp=0)\n",
    "re = ca.run(user_text=\"GDP\",prompt=ActasAdvisor.template())\n",
    "print(re.replace('*',''))"
   ]
  },
  {
   "cell_type": "code",
   "execution_count": 12,
   "metadata": {},
   "outputs": [
    {
     "name": "stdout",
     "output_type": "stream",
     "text": [
      " Visit the Gateway of India: Admire the iconic archway that served as the ceremonial entrance to India for British monarchs and viceroys. Take a ferry to Elephanta Island for a glimpse of ancient cave temples.\n",
      "\n",
      " Explore the Chhatrapati Shivaji Maharaj Vastu Sangrahalaya (CSMVS): Immerse yourself in Indian art and history at this renowned museum. Marvel at the collection of sculptures, paintings, and artifacts spanning centuries.\n",
      "\n",
      " Indulge in a Bollywood experience: Visit the Film City studio complex to witness the magic of Indian cinema. Take a guided tour, meet actors, and learn about the vibrant Bollywood industry.\n"
     ]
    }
   ],
   "source": [
    "# Act as Guide\n",
    "ca = ConversationAgent(model_name='gemini-pro',temp=0)\n",
    "re = ca.run(user_text=\"Mumbai\",prompt=ActasGuide.template())\n",
    "print(re.replace('*',''))"
   ]
  },
  {
   "cell_type": "code",
   "execution_count": 23,
   "metadata": {},
   "outputs": [
    {
     "name": "stdout",
     "output_type": "stream",
     "text": [
      "Hallo, wie geht es dir?\n"
     ]
    }
   ],
   "source": [
    "# Act as Translator (English to German)\n",
    "ca = ConversationAgent(model_name='gemini-pro',temp=0)\n",
    "re = ca.run(user_text=\"Hello, How are you?\",prompt=ActasTranslator.english_to_german())\n",
    "print(re.replace('*',''))"
   ]
  },
  {
   "cell_type": "code",
   "execution_count": 22,
   "metadata": {},
   "outputs": [
    {
     "name": "stdout",
     "output_type": "stream",
     "text": [
      "नमस्ते, आप कैसे हैं?\n"
     ]
    }
   ],
   "source": [
    "# Act as Translator (English to Hindi)\n",
    "ca = ConversationAgent(model_name='gemini-pro',temp=0)\n",
    "re = ca.run(user_text=\"Hello, How are you?\",prompt=ActasTranslator.english_to_hindi())\n",
    "print(re.replace('*',''))"
   ]
  },
  {
   "cell_type": "code",
   "execution_count": 5,
   "metadata": {},
   "outputs": [
    {
     "name": "stdout",
     "output_type": "stream",
     "text": [
      "Negative\n"
     ]
    }
   ],
   "source": [
    "# ZeroShot Sentiment Classification\n",
    "ca = ConversationAgent(model_name='gemini-pro',temp=0)\n",
    "re = ca.run(user_text='I wont talk to hear again. she is so mean.',prompt=ZeroShotSentimentClassification.template())\n",
    "print(re.replace('*',''))\n",
    "\n"
   ]
  },
  {
   "cell_type": "code",
   "execution_count": 6,
   "metadata": {},
   "outputs": [
    {
     "name": "stdout",
     "output_type": "stream",
     "text": [
      "Positive\n"
     ]
    }
   ],
   "source": [
    "# Here Expected Sentiment is Neutral but the LLM Outputs Sentiment as Positive.\n",
    "# to counter this problem we have used Few-Shot Prompting technique.\n",
    "# not always the LLM will misunderstood the sentiment.\n",
    "ca = ConversationAgent(model_name='gemini-pro',temp=0)\n",
    "re = ca.run(user_text=\"As the soft rays of dawn broke through the curtains, the city slowly stirred to life, its streets gradually filling with the hustle and bustle of daily routines.\",prompt=ZeroShotSentimentClassification.template())\n",
    "print(re.replace('*',''))"
   ]
  },
  {
   "cell_type": "code",
   "execution_count": 5,
   "metadata": {},
   "outputs": [
    {
     "name": "stdout",
     "output_type": "stream",
     "text": [
      "Neutral\n"
     ]
    }
   ],
   "source": [
    "# Few Shot Prompt technique\n",
    "ca = ConversationAgent(model_name='gemini-pro',temp=0)\n",
    "re = ca.run(user_text=\"As the soft rays of dawn broke through the curtains, the city slowly stirred to life, its streets gradually filling with the hustle and bustle of daily routines.\",prompt=FewShotSentimentClassification.template())\n",
    "print(re.replace('*',''))"
   ]
  }
 ],
 "metadata": {
  "kernelspec": {
   "display_name": "Python 3",
   "language": "python",
   "name": "python3"
  },
  "language_info": {
   "codemirror_mode": {
    "name": "ipython",
    "version": 3
   },
   "file_extension": ".py",
   "mimetype": "text/x-python",
   "name": "python",
   "nbconvert_exporter": "python",
   "pygments_lexer": "ipython3",
   "version": "3.11.5"
  }
 },
 "nbformat": 4,
 "nbformat_minor": 2
}
